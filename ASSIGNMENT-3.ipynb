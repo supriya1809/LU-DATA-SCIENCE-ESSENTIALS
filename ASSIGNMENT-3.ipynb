{
 "cells": [
  {
   "cell_type": "code",
   "execution_count": 2,
   "metadata": {},
   "outputs": [],
   "source": [
    "import numpy as np"
   ]
  },
  {
   "cell_type": "raw",
   "metadata": {},
   "source": [
    "QUES 1 -"
   ]
  },
  {
   "cell_type": "code",
   "execution_count": 3,
   "metadata": {},
   "outputs": [
    {
     "name": "stdout",
     "output_type": "stream",
     "text": [
      "[ 2  5  8 11 14 17 20 23 26 29 32 35 38 41 44 47]\n"
     ]
    }
   ],
   "source": [
    "# creating array with step-size\n",
    "arr = np.arange(2,50,3)\n",
    "print(arr)"
   ]
  },
  {
   "cell_type": "raw",
   "metadata": {},
   "source": [
    "QUES 2 -"
   ]
  },
  {
   "cell_type": "code",
   "execution_count": 4,
   "metadata": {},
   "outputs": [
    {
     "name": "stdout",
     "output_type": "stream",
     "text": [
      "enter the nos - 1 2 3 4 5\n",
      "enter the nos - 6 7 8 9 10\n",
      "the cocatenated array -  ['1 2 3 4 5' '6 7 8 9 10']\n",
      "Along first axis : \n",
      " ['1 2 3 4 5']\n",
      "Along none axis : \n",
      " ['6 7 8 9 10']\n"
     ]
    }
   ],
   "source": [
    "# initilizing list\n",
    "list1 = input(\"enter the nos - \")\n",
    "list2 = input(\"enter the nos - \")\n",
    "\n",
    "# converting list to array\n",
    "arr1 = np.array([list1])\n",
    "arr2 = np.array([list2])\n",
    "\n",
    "# concatenation of array\n",
    "arr = np.concatenate((arr1, arr2))\n",
    "print(\"the cocatenated array - \", arr)\n",
    "\n",
    "# sorting of array\n",
    "arr0 = np.sort(arr1, axis = 0)        \n",
    "print (\"Along first axis : \\n\", arr0)\n",
    "\n",
    "a = np.sort(arr2, axis = None)        \n",
    "print (\"Along none axis : \\n\", a)"
   ]
  },
  {
   "cell_type": "raw",
   "metadata": {},
   "source": [
    "QUES 3 -"
   ]
  },
  {
   "cell_type": "code",
   "execution_count": 5,
   "metadata": {},
   "outputs": [
    {
     "name": "stdout",
     "output_type": "stream",
     "text": [
      "[[1 2 3]\n",
      " [4 5 6]\n",
      " [7 8 9]]\n",
      "No. of dimensions:  2\n",
      "Size of array:  9\n"
     ]
    }
   ],
   "source": [
    "arr = np.array([[1,2,3],[4,5,6],[7,8,9]])\n",
    "print(arr)\n",
    "print(\"No. of dimensions: \", arr.ndim)\n",
    "print(\"Size of array: \", arr.size)"
   ]
  },
  {
   "cell_type": "raw",
   "metadata": {},
   "source": [
    "QUES 4 -"
   ]
  },
  {
   "cell_type": "code",
   "execution_count": 6,
   "metadata": {},
   "outputs": [
    {
     "name": "stdout",
     "output_type": "stream",
     "text": [
      "(6,)\n",
      "(1, 6)\n",
      "(6, 1)\n"
     ]
    }
   ],
   "source": [
    "arr = np.array([1, 2, 3, 4, 5, 6])\n",
    "print(arr.shape)\n",
    "\n",
    "# by adding new axis\n",
    "arr1 = arr[np.newaxis, :]\n",
    "print(arr1.shape)\n",
    "\n",
    "# by expanding dimension\n",
    "arr2 = np.expand_dims(arr, axis=1)\n",
    "print(arr2.shape)"
   ]
  },
  {
   "cell_type": "raw",
   "metadata": {},
   "source": [
    "QUES 5 -"
   ]
  },
  {
   "cell_type": "code",
   "execution_count": 7,
   "metadata": {},
   "outputs": [
    {
     "name": "stdout",
     "output_type": "stream",
     "text": [
      "Vertical stacking:\n",
      " [[7 2]\n",
      " [1 9]\n",
      " [0 5]\n",
      " [8 0]]\n",
      "\n",
      "Horizontal stacking:\n",
      " [[7 2 0 5]\n",
      " [1 9 8 0]]\n"
     ]
    }
   ],
   "source": [
    "a1 = np.array([[7, 2],\n",
    "               [1, 9]])\n",
    "a2 = np.array([[0, 5],\n",
    "               [8, 0]])\n",
    "# vertical stacking \n",
    "print(\"Vertical stacking:\\n\", np.vstack((a1, a2))) \n",
    "  \n",
    "# horizontal stacking \n",
    "print(\"\\nHorizontal stacking:\\n\", np.hstack((a1, a2)))"
   ]
  },
  {
   "cell_type": "raw",
   "metadata": {},
   "source": [
    "QUES 6 -"
   ]
  },
  {
   "cell_type": "code",
   "execution_count": 8,
   "metadata": {},
   "outputs": [
    {
     "name": "stdout",
     "output_type": "stream",
     "text": [
      "[11 12 13 14 15 16 17 18 19 20 21]\n",
      "[3 2 2 2 1 2 1 2 2 1 1]\n"
     ]
    }
   ],
   "source": [
    "a = np.array([11, 11, 12, 21, 13, 14, 15, 16, 17, 12, 13, 11, 14, 18, 19, 20, 16, 18, 19])\n",
    "\n",
    "# get unique values\n",
    "unique_values = np.unique(a)\n",
    "print(unique_values)\n",
    "\n",
    "# count unique values\n",
    "unique_values,occurrence_count = np.unique(a, return_counts=True)\n",
    "print(occurrence_count)"
   ]
  }
 ],
 "metadata": {
  "kernelspec": {
   "display_name": "Python 3",
   "language": "python",
   "name": "python3"
  },
  "language_info": {
   "codemirror_mode": {
    "name": "ipython",
    "version": 3
   },
   "file_extension": ".py",
   "mimetype": "text/x-python",
   "name": "python",
   "nbconvert_exporter": "python",
   "pygments_lexer": "ipython3",
   "version": "3.8.3"
  }
 },
 "nbformat": 4,
 "nbformat_minor": 4
}
