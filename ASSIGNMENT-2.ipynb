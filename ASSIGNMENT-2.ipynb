{
 "cells": [
  {
   "cell_type": "code",
   "execution_count": 1,
   "metadata": {},
   "outputs": [
    {
     "name": "stdout",
     "output_type": "stream",
     "text": [
      "[0, 2, 4, 6, 8]\n"
     ]
    }
   ],
   "source": [
    "# create an empty list\n",
    "num = []\n",
    "# iterate the numbers\n",
    "for n in range(10):\n",
    "    if n % 2 == 0:\n",
    "# append function        \n",
    "        num.append(n)\n",
    "print(num)"
   ]
  },
  {
   "cell_type": "code",
   "execution_count": 2,
   "metadata": {},
   "outputs": [
    {
     "name": "stdout",
     "output_type": "stream",
     "text": [
      "[0, 1, 4, 9, 16, 25, 36, 49, 64, 81]\n"
     ]
    }
   ],
   "source": [
    "# list comprehension\n",
    "squares = [n**2 for n in range(10)]\n",
    "print(squares)"
   ]
  },
  {
   "cell_type": "code",
   "execution_count": 3,
   "metadata": {},
   "outputs": [
    {
     "name": "stdout",
     "output_type": "stream",
     "text": [
      "Enter a number:5\n",
      "{1: 1, 2: 4, 3: 9, 4: 16, 5: 25}\n"
     ]
    }
   ],
   "source": [
    "# enter the given no. n\n",
    "n=int(input(\"Enter a number:\"))\n",
    "# dictionary function\n",
    "d={x:x*x for x in range(1,n+1)}\n",
    "print(d)"
   ]
  },
  {
   "cell_type": "code",
   "execution_count": 4,
   "metadata": {},
   "outputs": [
    {
     "name": "stdout",
     "output_type": "stream",
     "text": [
      "4\n",
      "UP 7\n",
      "DOWN 2\n",
      "LEFT 3\n",
      "RIGHT 1\n",
      "5\n"
     ]
    }
   ],
   "source": [
    "# initialize the position\n",
    "p = {\"x\":0,\"y\":0}\n",
    "# implies the no. of direction \n",
    "n = int(input())\n",
    "\n",
    "for _ in range (n):\n",
    "    steps =  input().split(\" \")    # directions followed up with steps  \n",
    "    if steps[0] == \"UP\":             \n",
    "        p[\"y\"] += int(steps[1])   \n",
    "    if steps[0] == \"DOWN\":\n",
    "        p[\"y\"] -= int(steps[1])\n",
    "    if steps[0] == \"LEFT\":\n",
    "        p[\"x\"] -= int(steps[1])\n",
    "    if steps[0] == \"RIGHT\":\n",
    "        p[\"x\"] += int(steps[1])\n",
    "\n",
    "print(int(round((p[\"x\"]**2 + p[\"y\"]**2)**0.5)))   # distance from origin"
   ]
  }
 ],
 "metadata": {
  "kernelspec": {
   "display_name": "Python 3",
   "language": "python",
   "name": "python3"
  },
  "language_info": {
   "codemirror_mode": {
    "name": "ipython",
    "version": 3
   },
   "file_extension": ".py",
   "mimetype": "text/x-python",
   "name": "python",
   "nbconvert_exporter": "python",
   "pygments_lexer": "ipython3",
   "version": "3.8.3"
  }
 },
 "nbformat": 4,
 "nbformat_minor": 4
}
